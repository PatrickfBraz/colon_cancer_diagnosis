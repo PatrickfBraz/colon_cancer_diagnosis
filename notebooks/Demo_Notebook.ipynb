{
 "cells": [
  {
   "cell_type": "markdown",
   "metadata": {},
   "source": [
    "### Feature selection algorithms aplied to determine most important biomarkers to diagnosis colon cancer"
   ]
  },
  {
   "cell_type": "markdown",
   "metadata": {},
   "source": [
    " Demonstrative notebook"
   ]
  },
  {
   "cell_type": "code",
   "execution_count": 3,
   "metadata": {},
   "outputs": [],
   "source": [
    "# packages to import\n",
    "import pandas as pd\n",
    "import numpy as np\n",
    "from sklearn.linear_model import ElasticNet,Lasso,Lars,OrthogonalMatchingPursuit\n",
    "from sklearn.metrics import confusion_matrix,accuracy_score,f1_score,recall_score,precision_score"
   ]
  },
  {
   "cell_type": "code",
   "execution_count": 27,
   "metadata": {},
   "outputs": [
    {
     "data": {
      "text/html": [
       "<div>\n",
       "<style scoped>\n",
       "    .dataframe tbody tr th:only-of-type {\n",
       "        vertical-align: middle;\n",
       "    }\n",
       "\n",
       "    .dataframe tbody tr th {\n",
       "        vertical-align: top;\n",
       "    }\n",
       "\n",
       "    .dataframe thead th {\n",
       "        text-align: right;\n",
       "    }\n",
       "</style>\n",
       "<table border=\"1\" class=\"dataframe\">\n",
       "  <thead>\n",
       "    <tr style=\"text-align: right;\">\n",
       "      <th>Unnamed: 0</th>\n",
       "      <th>TEX11</th>\n",
       "      <th>BHMT2</th>\n",
       "      <th>STC2</th>\n",
       "      <th>D21S2056E</th>\n",
       "      <th>GTF2H1</th>\n",
       "      <th>PSME3</th>\n",
       "      <th>RRAD</th>\n",
       "      <th>CCNH</th>\n",
       "      <th>ALDOA</th>\n",
       "      <th>SH3BP1</th>\n",
       "      <th>...</th>\n",
       "      <th>TMEM66</th>\n",
       "      <th>DOC-1R</th>\n",
       "      <th>MGC18216</th>\n",
       "      <th>SERPIND1</th>\n",
       "      <th>PIGQ</th>\n",
       "      <th>NRIP1</th>\n",
       "      <th>HIGD2A</th>\n",
       "      <th>RPL10</th>\n",
       "      <th>TGFBR2</th>\n",
       "      <th>RABL2B</th>\n",
       "    </tr>\n",
       "  </thead>\n",
       "  <tbody>\n",
       "    <tr>\n",
       "      <td>PAT 7657</td>\n",
       "      <td>2.155570</td>\n",
       "      <td>1.559610</td>\n",
       "      <td>1.652982</td>\n",
       "      <td>1.579475</td>\n",
       "      <td>1.636618</td>\n",
       "      <td>1.797736</td>\n",
       "      <td>1.839806</td>\n",
       "      <td>1.131839</td>\n",
       "      <td>1.490569</td>\n",
       "      <td>1.126158</td>\n",
       "      <td>...</td>\n",
       "      <td>2.033001</td>\n",
       "      <td>2.928262</td>\n",
       "      <td>2.909495</td>\n",
       "      <td>2.178864</td>\n",
       "      <td>3.308695</td>\n",
       "      <td>3.906101</td>\n",
       "      <td>1.468596</td>\n",
       "      <td>4.230699</td>\n",
       "      <td>4.253670</td>\n",
       "      <td>1.717029</td>\n",
       "    </tr>\n",
       "    <tr>\n",
       "      <td>PAT 7938</td>\n",
       "      <td>2.594781</td>\n",
       "      <td>2.501282</td>\n",
       "      <td>3.430220</td>\n",
       "      <td>2.452831</td>\n",
       "      <td>2.455439</td>\n",
       "      <td>2.967438</td>\n",
       "      <td>3.251557</td>\n",
       "      <td>4.156617</td>\n",
       "      <td>3.286721</td>\n",
       "      <td>2.728267</td>\n",
       "      <td>...</td>\n",
       "      <td>2.969220</td>\n",
       "      <td>6.356543</td>\n",
       "      <td>6.265912</td>\n",
       "      <td>2.541806</td>\n",
       "      <td>5.189360</td>\n",
       "      <td>5.398594</td>\n",
       "      <td>2.420806</td>\n",
       "      <td>9.743717</td>\n",
       "      <td>6.829954</td>\n",
       "      <td>1.946595</td>\n",
       "    </tr>\n",
       "    <tr>\n",
       "      <td>PAT 7942</td>\n",
       "      <td>1.321090</td>\n",
       "      <td>1.125496</td>\n",
       "      <td>1.434565</td>\n",
       "      <td>1.193589</td>\n",
       "      <td>0.975665</td>\n",
       "      <td>1.390202</td>\n",
       "      <td>1.271447</td>\n",
       "      <td>1.826720</td>\n",
       "      <td>1.242207</td>\n",
       "      <td>1.033188</td>\n",
       "      <td>...</td>\n",
       "      <td>1.250513</td>\n",
       "      <td>2.633882</td>\n",
       "      <td>1.850188</td>\n",
       "      <td>1.053447</td>\n",
       "      <td>1.623159</td>\n",
       "      <td>2.051022</td>\n",
       "      <td>1.032258</td>\n",
       "      <td>2.590952</td>\n",
       "      <td>2.793577</td>\n",
       "      <td>0.680560</td>\n",
       "    </tr>\n",
       "    <tr>\n",
       "      <td>PAT 8014</td>\n",
       "      <td>1.199055</td>\n",
       "      <td>1.182967</td>\n",
       "      <td>1.628302</td>\n",
       "      <td>1.032696</td>\n",
       "      <td>1.000866</td>\n",
       "      <td>1.380063</td>\n",
       "      <td>1.312044</td>\n",
       "      <td>1.117691</td>\n",
       "      <td>1.476219</td>\n",
       "      <td>1.826212</td>\n",
       "      <td>...</td>\n",
       "      <td>2.153624</td>\n",
       "      <td>2.492472</td>\n",
       "      <td>2.525430</td>\n",
       "      <td>2.142806</td>\n",
       "      <td>3.295712</td>\n",
       "      <td>2.293355</td>\n",
       "      <td>2.907453</td>\n",
       "      <td>3.610939</td>\n",
       "      <td>3.752397</td>\n",
       "      <td>2.715629</td>\n",
       "    </tr>\n",
       "    <tr>\n",
       "      <td>PAT 8015</td>\n",
       "      <td>0.635057</td>\n",
       "      <td>0.427649</td>\n",
       "      <td>0.795654</td>\n",
       "      <td>0.438304</td>\n",
       "      <td>0.344568</td>\n",
       "      <td>0.485543</td>\n",
       "      <td>0.458305</td>\n",
       "      <td>0.291560</td>\n",
       "      <td>0.686847</td>\n",
       "      <td>1.279260</td>\n",
       "      <td>...</td>\n",
       "      <td>2.092384</td>\n",
       "      <td>1.884410</td>\n",
       "      <td>1.767004</td>\n",
       "      <td>2.147815</td>\n",
       "      <td>2.052154</td>\n",
       "      <td>1.083346</td>\n",
       "      <td>1.766682</td>\n",
       "      <td>1.208958</td>\n",
       "      <td>1.824611</td>\n",
       "      <td>1.039966</td>\n",
       "    </tr>\n",
       "  </tbody>\n",
       "</table>\n",
       "<p>5 rows × 2164 columns</p>\n",
       "</div>"
      ],
      "text/plain": [
       "Unnamed: 0     TEX11     BHMT2      STC2  D21S2056E    GTF2H1     PSME3  \\\n",
       "PAT 7657    2.155570  1.559610  1.652982   1.579475  1.636618  1.797736   \n",
       "PAT 7938    2.594781  2.501282  3.430220   2.452831  2.455439  2.967438   \n",
       "PAT 7942    1.321090  1.125496  1.434565   1.193589  0.975665  1.390202   \n",
       "PAT 8014    1.199055  1.182967  1.628302   1.032696  1.000866  1.380063   \n",
       "PAT 8015    0.635057  0.427649  0.795654   0.438304  0.344568  0.485543   \n",
       "\n",
       "Unnamed: 0      RRAD      CCNH     ALDOA    SH3BP1  ...    TMEM66    DOC-1R  \\\n",
       "PAT 7657    1.839806  1.131839  1.490569  1.126158  ...  2.033001  2.928262   \n",
       "PAT 7938    3.251557  4.156617  3.286721  2.728267  ...  2.969220  6.356543   \n",
       "PAT 7942    1.271447  1.826720  1.242207  1.033188  ...  1.250513  2.633882   \n",
       "PAT 8014    1.312044  1.117691  1.476219  1.826212  ...  2.153624  2.492472   \n",
       "PAT 8015    0.458305  0.291560  0.686847  1.279260  ...  2.092384  1.884410   \n",
       "\n",
       "Unnamed: 0  MGC18216  SERPIND1      PIGQ     NRIP1    HIGD2A     RPL10  \\\n",
       "PAT 7657    2.909495  2.178864  3.308695  3.906101  1.468596  4.230699   \n",
       "PAT 7938    6.265912  2.541806  5.189360  5.398594  2.420806  9.743717   \n",
       "PAT 7942    1.850188  1.053447  1.623159  2.051022  1.032258  2.590952   \n",
       "PAT 8014    2.525430  2.142806  3.295712  2.293355  2.907453  3.610939   \n",
       "PAT 8015    1.767004  2.147815  2.052154  1.083346  1.766682  1.208958   \n",
       "\n",
       "Unnamed: 0    TGFBR2    RABL2B  \n",
       "PAT 7657    4.253670  1.717029  \n",
       "PAT 7938    6.829954  1.946595  \n",
       "PAT 7942    2.793577  0.680560  \n",
       "PAT 8014    3.752397  2.715629  \n",
       "PAT 8015    1.824611  1.039966  \n",
       "\n",
       "[5 rows x 2164 columns]"
      ]
     },
     "execution_count": 27,
     "metadata": {},
     "output_type": "execute_result"
    }
   ],
   "source": [
    "# Demonstration of a small part of the set used to train the models\n",
    "dataFrame.head()"
   ]
  },
  {
   "cell_type": "code",
   "execution_count": 6,
   "metadata": {},
   "outputs": [
    {
     "data": {
      "text/html": [
       "<div>\n",
       "<style scoped>\n",
       "    .dataframe tbody tr th:only-of-type {\n",
       "        vertical-align: middle;\n",
       "    }\n",
       "\n",
       "    .dataframe tbody tr th {\n",
       "        vertical-align: top;\n",
       "    }\n",
       "\n",
       "    .dataframe thead th {\n",
       "        text-align: right;\n",
       "    }\n",
       "</style>\n",
       "<table border=\"1\" class=\"dataframe\">\n",
       "  <thead>\n",
       "    <tr style=\"text-align: right;\">\n",
       "      <th>Unnamed: 0</th>\n",
       "      <th>0</th>\n",
       "      <th>1</th>\n",
       "      <th>2</th>\n",
       "    </tr>\n",
       "  </thead>\n",
       "  <tbody>\n",
       "    <tr>\n",
       "      <td>PAT 7657</td>\n",
       "      <td>1.0</td>\n",
       "      <td>1.0</td>\n",
       "      <td>1.0</td>\n",
       "    </tr>\n",
       "    <tr>\n",
       "      <td>PAT 7938</td>\n",
       "      <td>1.0</td>\n",
       "      <td>1.0</td>\n",
       "      <td>1.0</td>\n",
       "    </tr>\n",
       "    <tr>\n",
       "      <td>PAT 7942</td>\n",
       "      <td>1.0</td>\n",
       "      <td>1.0</td>\n",
       "      <td>1.0</td>\n",
       "    </tr>\n",
       "    <tr>\n",
       "      <td>PAT 8014</td>\n",
       "      <td>1.0</td>\n",
       "      <td>1.0</td>\n",
       "      <td>1.0</td>\n",
       "    </tr>\n",
       "    <tr>\n",
       "      <td>PAT 8015</td>\n",
       "      <td>2.0</td>\n",
       "      <td>2.0</td>\n",
       "      <td>2.0</td>\n",
       "    </tr>\n",
       "  </tbody>\n",
       "</table>\n",
       "</div>"
      ],
      "text/plain": [
       "Unnamed: 0    0    1    2\n",
       "PAT 7657    1.0  1.0  1.0\n",
       "PAT 7938    1.0  1.0  1.0\n",
       "PAT 7942    1.0  1.0  1.0\n",
       "PAT 8014    1.0  1.0  1.0\n",
       "PAT 8015    2.0  2.0  2.0"
      ]
     },
     "execution_count": 6,
     "metadata": {},
     "output_type": "execute_result"
    }
   ],
   "source": [
    "# Demonstration of a small part of target\n",
    "\n",
    "# It is important to mention that the labels \n",
    "# referring to the diagnosis phase of the disease are in column 0\n",
    "dataFrameTarget.head(5)"
   ]
  },
  {
   "cell_type": "code",
   "execution_count": 32,
   "metadata": {},
   "outputs": [],
   "source": [
    "# Handling data to remove healthy patients and pick only labels from diagnostic phase\n",
    "pat = dataFrame.drop(dataFrame.index[51:], axis = 0) \n",
    "patTarget = dataFrameTarget.drop(dataFrameTarget.index[51:], axis = 0)\n",
    "diagnosticoPat = pd.DataFrame(patTarget.iloc[:,0])"
   ]
  },
  {
   "cell_type": "markdown",
   "metadata": {},
   "source": [
    "#### Testing the developed class and applying the chosen models to the data"
   ]
  },
  {
   "cell_type": "code",
   "execution_count": 182,
   "metadata": {},
   "outputs": [],
   "source": [
    "lasso = Lasso(alpha=0.1, fit_intercept=False, max_iter=50000, tol=0.0001)\n",
    "omp = OrthogonalMatchingPursuit(n_nonzero_coefs=1, tol=0.00000001, fit_intercept=False)\n",
    "lar = Lars(fit_intercept=False, n_nonzero_coefs=5)\n",
    "elastic_net = ElasticNet(alpha=0.1, l1_ratio=0.5, fit_intercept=False,max_iter=50000,tol=0.0001)"
   ]
  },
  {
   "cell_type": "code",
   "execution_count": 183,
   "metadata": {},
   "outputs": [],
   "source": [
    "metrics = Metrics()"
   ]
  },
  {
   "cell_type": "markdown",
   "metadata": {},
   "source": [
    "Results of LASSO:"
   ]
  },
  {
   "cell_type": "code",
   "execution_count": 184,
   "metadata": {},
   "outputs": [
    {
     "name": "stdout",
     "output_type": "stream",
     "text": [
      "Accuracy: 0.6862745098039216 \n",
      "Precision: 0.7948717948717948\n",
      "Recall: 0.7948717948717948\n",
      "F1 Score: 0.7948717948717948\n"
     ]
    }
   ],
   "source": [
    "metrics.leave_one_out(lasso,pat,diagnosticoPat.applymap(transform).values.ravel())"
   ]
  },
  {
   "cell_type": "code",
   "execution_count": 185,
   "metadata": {},
   "outputs": [
    {
     "data": {
      "text/plain": [
       "Index(['VIL2', 'MAPK13', 'GJB2', 'NUP54', 'CXCL2', 'BATF', 'HSPA2', 'TYROBP',\n",
       "       'TRIP10', 'CycE2', 'HEXIM1', 'TNFSF14', 'NPPB', 'IFI35', 'IL10RB',\n",
       "       'RNP24', 'VTI2', 'LALBA', 'CSNK2A2', 'FGF13', 'CDC42', 'PRAME',\n",
       "       'CDKN1A', 'MED8', 'CDH15', 'CITED1', 'BAG3'],\n",
       "      dtype='object', name='Unnamed: 0')"
      ]
     },
     "execution_count": 185,
     "metadata": {},
     "output_type": "execute_result"
    }
   ],
   "source": [
    "metrics.chosen_variables(lasso,pat,diagnosticoPat.applymap(transform).values.ravel())"
   ]
  },
  {
   "cell_type": "markdown",
   "metadata": {},
   "source": [
    "Results of Lar:"
   ]
  },
  {
   "cell_type": "code",
   "execution_count": 186,
   "metadata": {},
   "outputs": [
    {
     "name": "stdout",
     "output_type": "stream",
     "text": [
      "Accuracy: 0.7647058823529411 \n",
      "Precision: 0.7647058823529411\n",
      "Recall: 1.0\n",
      "F1 Score: 0.8666666666666666\n"
     ]
    }
   ],
   "source": [
    "metrics.leave_one_out(lar,pat,diagnosticoPat.applymap(transform).values.ravel())"
   ]
  },
  {
   "cell_type": "code",
   "execution_count": 187,
   "metadata": {},
   "outputs": [
    {
     "data": {
      "text/plain": [
       "Index(['TNFSF14', 'IFI35', 'IL10RB', 'VTI2', 'NOV'], dtype='object', name='Unnamed: 0')"
      ]
     },
     "execution_count": 187,
     "metadata": {},
     "output_type": "execute_result"
    }
   ],
   "source": [
    "metrics.chosen_variables(lar,pat,diagnosticoPat.applymap(transform).values.ravel())"
   ]
  },
  {
   "cell_type": "markdown",
   "metadata": {},
   "source": [
    "Results of ElasticNet:"
   ]
  },
  {
   "cell_type": "code",
   "execution_count": 188,
   "metadata": {},
   "outputs": [
    {
     "name": "stdout",
     "output_type": "stream",
     "text": [
      "Accuracy: 0.7450980392156863 \n",
      "Precision: 0.8421052631578947\n",
      "Recall: 0.8205128205128205\n",
      "F1 Score: 0.8311688311688312\n"
     ]
    }
   ],
   "source": [
    "metrics.leave_one_out(elastic_net,pat,diagnosticoPat.applymap(transform).values.ravel())"
   ]
  },
  {
   "cell_type": "code",
   "execution_count": 189,
   "metadata": {},
   "outputs": [
    {
     "data": {
      "text/plain": [
       "Index(['VIL2', 'GMDS', 'GJB2', 'EIF2B2', 'NUP54', 'PDHB', 'UCHL1', 'SERPING1',\n",
       "       'ANKRD1', 'ELF5', 'BATF', 'TYROBP', 'TRIP10', 'TMED1', 'CCL27',\n",
       "       'TNFSF14', '76P', 'NPPB', 'CST3', 'IFI35', 'IL10RB', 'NFIC', 'CFB',\n",
       "       'PABPC1', 'HBE1', 'VTI2', 'HSPA8', 'PIP', 'LALBA', 'CSNK2A2', 'BRE',\n",
       "       'FGF13', 'CDC42', 'EDF1', 'KLRC1', 'CDKN1A', 'ACO2', 'MED8', 'CITED1',\n",
       "       'BAG3', 'ETS2', 'ENSA'],\n",
       "      dtype='object', name='Unnamed: 0')"
      ]
     },
     "execution_count": 189,
     "metadata": {},
     "output_type": "execute_result"
    }
   ],
   "source": [
    "metrics.chosen_variables(elastic_net,pat,diagnosticoPat.applymap(transform).values.ravel())"
   ]
  },
  {
   "cell_type": "markdown",
   "metadata": {},
   "source": [
    "Results of OMP:"
   ]
  },
  {
   "cell_type": "code",
   "execution_count": 190,
   "metadata": {},
   "outputs": [
    {
     "name": "stdout",
     "output_type": "stream",
     "text": [
      "Accuracy: 0.7058823529411765 \n",
      "Precision: 0.8529411764705882\n",
      "Recall: 0.7435897435897436\n",
      "F1 Score: 0.7945205479452054\n"
     ]
    }
   ],
   "source": [
    "metrics.leave_one_out(omp,pat,diagnosticoPat.applymap(transform).values.ravel())"
   ]
  },
  {
   "cell_type": "code",
   "execution_count": 191,
   "metadata": {},
   "outputs": [
    {
     "data": {
      "text/plain": [
       "Index(['VIL2', 'GMDS', 'UGDH', 'STUB1', 'SCYB6', 'RUVBL1', 'MOSPD1', 'IL4',\n",
       "       'C5orf15', 'TNA', 'STAR', 'UCHL1', 'p53', 'TCEA1', 'NMUR2', 'ANKRD1',\n",
       "       'RPL32', 'CTCF', 'CCDC47', 'SESN2', 'GGT1', 'TYROBP', 'NPPB', 'TNF',\n",
       "       'PFN1', 'CRIP2', 'PRL', 'IFI35', 'IL10RB', 'CCNI', 'ST3GAL1', 'VTI2',\n",
       "       'GPC3', 'MRPL40', 'EPS8', 'S100A9', 'CLIC2', 'OPTN', 'NSUN5', 'CLIC1',\n",
       "       'SNRPD2', 'ADH5', 'PPIH', 'INSL5', 'NOV', 'IL8RA', 'RNASEH1', 'PHYH',\n",
       "       'WNT2', 'ENSA', 'ETV3'],\n",
       "      dtype='object', name='Unnamed: 0')"
      ]
     },
     "execution_count": 191,
     "metadata": {},
     "output_type": "execute_result"
    }
   ],
   "source": [
    "metrics.chosen_variables(omp,pat,diagnosticoPat.applymap(transform).values.ravel())"
   ]
  },
  {
   "cell_type": "markdown",
   "metadata": {},
   "source": [
    "##### For a deeper analysis it is necessary, through the tools presented so far, to make a search varying the hyperparameters."
   ]
  }
 ],
 "metadata": {
  "kernelspec": {
   "display_name": "Python 3",
   "language": "python",
   "name": "python3"
  },
  "language_info": {
   "codemirror_mode": {
    "name": "ipython",
    "version": 3
   },
   "file_extension": ".py",
   "mimetype": "text/x-python",
   "name": "python",
   "nbconvert_exporter": "python",
   "pygments_lexer": "ipython3",
   "version": "3.7.4"
  }
 },
 "nbformat": 4,
 "nbformat_minor": 4
}
